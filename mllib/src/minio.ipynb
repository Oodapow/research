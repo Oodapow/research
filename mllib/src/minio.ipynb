{
 "cells": [
  {
   "cell_type": "markdown",
   "metadata": {},
   "source": [
    "# Minio create bucket\n",
    "- open-source object storage server that stores unstructured data\n",
    "- alternative to AWS S3 buckets\n",
    "- AWS-S3 compatable\n",
    "- python API ref: https://docs.minio.io/docs/python-client-api-reference.html\n",
    "- to quickly set-up a server see: https://docs.minio.io/docs/minio-docker-quickstart-guide\n",
    "    - easy to set-up on linux or windows\n",
    "- in another notebook, we will try to use minio to store model artifacts for MLflow"
   ]
  },
  {
   "cell_type": "markdown",
   "metadata": {},
   "source": [
    "## Import dependencies"
   ]
  },
  {
   "cell_type": "code",
   "execution_count": 1,
   "metadata": {},
   "outputs": [],
   "source": [
    "from minio import Minio\n",
    "from minio.error import ResponseError\n",
    "import json\n",
    "import os"
   ]
  },
  {
   "cell_type": "markdown",
   "metadata": {},
   "source": [
    "## Instantiate a client object\n",
    "- read envirnoment varaibles (should set them before open notebook)"
   ]
  },
  {
   "cell_type": "code",
   "execution_count": 2,
   "metadata": {},
   "outputs": [],
   "source": [
    "minioClient = Minio('minio:9000', access_key='admin', secret_key='password', secure=False)"
   ]
  },
  {
   "cell_type": "markdown",
   "metadata": {},
   "source": [
    "## List the buckets in the server\n",
    "- none were found"
   ]
  },
  {
   "cell_type": "code",
   "execution_count": 3,
   "metadata": {},
   "outputs": [
    {
     "data": {
      "text/plain": [
       "[<minio.definitions.Bucket at 0x7f28240344a8>,\n",
       " <minio.definitions.Bucket at 0x7f28240344e0>,\n",
       " <minio.definitions.Bucket at 0x7f2824034518>,\n",
       " <minio.definitions.Bucket at 0x7f2824034550>,\n",
       " <minio.definitions.Bucket at 0x7f2824034588>,\n",
       " <minio.definitions.Bucket at 0x7f2824034668>]"
      ]
     },
     "execution_count": 3,
     "metadata": {},
     "output_type": "execute_result"
    }
   ],
   "source": [
    "minioClient.list_buckets()"
   ]
  },
  {
   "cell_type": "markdown",
   "metadata": {},
   "source": [
    "## Let's create an s3 compatible bucket\n",
    "- we'll name the bucket 'mlflow'"
   ]
  },
  {
   "cell_type": "code",
   "execution_count": 4,
   "metadata": {},
   "outputs": [
    {
     "ename": "BucketAlreadyOwnedByYou",
     "evalue": "BucketAlreadyOwnedByYou: message: Your previous request to create the named bucket succeeded and you already own it.",
     "output_type": "error",
     "traceback": [
      "\u001b[0;31m---------------------------------------------------------------------------\u001b[0m",
      "\u001b[0;31mBucketAlreadyOwnedByYou\u001b[0m                   Traceback (most recent call last)",
      "\u001b[0;32m<ipython-input-4-c46dddf045c7>\u001b[0m in \u001b[0;36m<module>\u001b[0;34m\u001b[0m\n\u001b[1;32m      1\u001b[0m \u001b[0;32mtry\u001b[0m\u001b[0;34m:\u001b[0m\u001b[0;34m\u001b[0m\u001b[0;34m\u001b[0m\u001b[0m\n\u001b[0;32m----> 2\u001b[0;31m     \u001b[0mminioClient\u001b[0m\u001b[0;34m.\u001b[0m\u001b[0mmake_bucket\u001b[0m\u001b[0;34m(\u001b[0m\u001b[0;34m'mlflow'\u001b[0m\u001b[0;34m)\u001b[0m\u001b[0;34m\u001b[0m\u001b[0;34m\u001b[0m\u001b[0m\n\u001b[0m\u001b[1;32m      3\u001b[0m \u001b[0;32mexcept\u001b[0m \u001b[0mResponseError\u001b[0m \u001b[0;32mas\u001b[0m \u001b[0merr\u001b[0m\u001b[0;34m:\u001b[0m\u001b[0;34m\u001b[0m\u001b[0;34m\u001b[0m\u001b[0m\n\u001b[1;32m      4\u001b[0m     \u001b[0mprint\u001b[0m\u001b[0;34m(\u001b[0m\u001b[0merr\u001b[0m\u001b[0;34m)\u001b[0m\u001b[0;34m\u001b[0m\u001b[0;34m\u001b[0m\u001b[0m\n",
      "\u001b[0;32m/usr/local/lib/python3.6/dist-packages/minio/api.py\u001b[0m in \u001b[0;36mmake_bucket\u001b[0;34m(self, bucket_name, location)\u001b[0m\n\u001b[1;32m    339\u001b[0m \u001b[0;34m\u001b[0m\u001b[0m\n\u001b[1;32m    340\u001b[0m         \u001b[0;32mif\u001b[0m \u001b[0mresponse\u001b[0m\u001b[0;34m.\u001b[0m\u001b[0mstatus\u001b[0m \u001b[0;34m!=\u001b[0m \u001b[0;36m200\u001b[0m\u001b[0;34m:\u001b[0m\u001b[0;34m\u001b[0m\u001b[0;34m\u001b[0m\u001b[0m\n\u001b[0;32m--> 341\u001b[0;31m             \u001b[0;32mraise\u001b[0m \u001b[0mResponseError\u001b[0m\u001b[0;34m(\u001b[0m\u001b[0mresponse\u001b[0m\u001b[0;34m,\u001b[0m \u001b[0mmethod\u001b[0m\u001b[0;34m,\u001b[0m \u001b[0mbucket_name\u001b[0m\u001b[0;34m)\u001b[0m\u001b[0;34m.\u001b[0m\u001b[0mget_exception\u001b[0m\u001b[0;34m(\u001b[0m\u001b[0;34m)\u001b[0m\u001b[0;34m\u001b[0m\u001b[0;34m\u001b[0m\u001b[0m\n\u001b[0m\u001b[1;32m    342\u001b[0m \u001b[0;34m\u001b[0m\u001b[0m\n\u001b[1;32m    343\u001b[0m         \u001b[0mself\u001b[0m\u001b[0;34m.\u001b[0m\u001b[0m_set_bucket_region\u001b[0m\u001b[0;34m(\u001b[0m\u001b[0mbucket_name\u001b[0m\u001b[0;34m,\u001b[0m \u001b[0mregion\u001b[0m\u001b[0;34m=\u001b[0m\u001b[0mlocation\u001b[0m\u001b[0;34m)\u001b[0m\u001b[0;34m\u001b[0m\u001b[0;34m\u001b[0m\u001b[0m\n",
      "\u001b[0;31mBucketAlreadyOwnedByYou\u001b[0m: BucketAlreadyOwnedByYou: message: Your previous request to create the named bucket succeeded and you already own it."
     ]
    }
   ],
   "source": [
    "try:\n",
    "    minioClient.make_bucket('mlflow')\n",
    "except ResponseError as err:\n",
    "    print(err)"
   ]
  },
  {
   "cell_type": "code",
   "execution_count": 5,
   "metadata": {},
   "outputs": [
    {
     "name": "stdout",
     "output_type": "stream",
     "text": [
      "data 2019-10-19 05:56:09.848000+00:00\n",
      "drions 2019-10-19 05:55:45.812000+00:00\n",
      "drive 2019-10-19 04:07:18.402000+00:00\n",
      "mias 2019-10-19 04:08:53.466000+00:00\n",
      "mlflow 2019-10-19 03:58:15.468000+00:00\n",
      "mura 2019-10-19 04:07:22.694000+00:00\n"
     ]
    }
   ],
   "source": [
    "buckets = minioClient.list_buckets()\n",
    "for bucket in buckets:\n",
    "    print(bucket.name, bucket.creation_date)"
   ]
  },
  {
   "cell_type": "markdown",
   "metadata": {},
   "source": [
    "## Now we need to set the bucket policy\n",
    "- see: https://docs.aws.amazon.com/AmazonS3/latest/dev/using-with-s3-actions.html"
   ]
  },
  {
   "cell_type": "code",
   "execution_count": 6,
   "metadata": {},
   "outputs": [],
   "source": [
    "policy = {\"Version\":\"2012-10-17\",\n",
    "        \"Statement\":[\n",
    "            {\n",
    "            \"Sid\":\"\",\n",
    "            \"Effect\":\"Allow\",\n",
    "            \"Principal\":{\"AWS\":\"*\"},\n",
    "            \"Action\":\"s3:GetBucketLocation\",\n",
    "            \"Resource\":\"arn:aws:s3:::mlflow\"\n",
    "            },\n",
    "            {\n",
    "            \"Sid\":\"\",\n",
    "            \"Effect\":\"Allow\",\n",
    "            \"Principal\":{\"AWS\":\"*\"},\n",
    "            \"Action\":\"s3:ListBucket\",\n",
    "            \"Resource\":\"arn:aws:s3:::mlflow\"\n",
    "            },\n",
    "            {\n",
    "            \"Sid\":\"\",\n",
    "            \"Effect\":\"Allow\",\n",
    "            \"Principal\":{\"AWS\":\"*\"},\n",
    "            \"Action\":\"s3:GetObject\",\n",
    "            \"Resource\":\"arn:aws:s3:::mlflow/*\"\n",
    "            },\n",
    "            {\n",
    "            \"Sid\":\"\",\n",
    "            \"Effect\":\"Allow\",\n",
    "            \"Principal\":{\"AWS\":\"*\"},\n",
    "            \"Action\":\"s3:PutObject\",\n",
    "            \"Resource\":\"arn:aws:s3:::mlflow/*\"\n",
    "            }\n",
    "\n",
    "        ]}"
   ]
  },
  {
   "cell_type": "code",
   "execution_count": 7,
   "metadata": {},
   "outputs": [],
   "source": [
    "minioClient.set_bucket_policy('mlflow', json.dumps(policy))"
   ]
  },
  {
   "cell_type": "markdown",
   "metadata": {},
   "source": [
    "## List all the objects in a bucket"
   ]
  },
  {
   "cell_type": "code",
   "execution_count": 8,
   "metadata": {},
   "outputs": [],
   "source": [
    "# List all object paths in bucket that begin with my-prefixname.\n",
    "objects = minioClient.list_objects('mlflow', prefix='my',\n",
    "                              recursive=True)\n",
    "for obj in objects:\n",
    "    print(obj.bucket_name, obj.object_name.encode('utf-8'), obj.last_modified,\n",
    "          obj.etag, obj.size, obj.content_type)"
   ]
  },
  {
   "cell_type": "code",
   "execution_count": null,
   "metadata": {},
   "outputs": [],
   "source": []
  },
  {
   "cell_type": "code",
   "execution_count": null,
   "metadata": {},
   "outputs": [],
   "source": []
  }
 ],
 "metadata": {
  "kernelspec": {
   "display_name": "Python 3",
   "language": "python",
   "name": "python3"
  },
  "language_info": {
   "codemirror_mode": {
    "name": "ipython",
    "version": 3
   },
   "file_extension": ".py",
   "mimetype": "text/x-python",
   "name": "python",
   "nbconvert_exporter": "python",
   "pygments_lexer": "ipython3",
   "version": "3.6.8"
  }
 },
 "nbformat": 4,
 "nbformat_minor": 4
}
